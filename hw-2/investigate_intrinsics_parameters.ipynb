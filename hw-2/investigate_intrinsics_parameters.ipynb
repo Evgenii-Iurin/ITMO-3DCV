{
 "cells": [
  {
   "cell_type": "code",
   "execution_count": 1,
   "metadata": {},
   "outputs": [],
   "source": [
    "from common.intrinsics import Intrinsics"
   ]
  },
  {
   "cell_type": "code",
   "execution_count": null,
   "metadata": {},
   "outputs": [
    {
     "data": {
      "text/plain": [
       "<common.intrinsics.Intrinsics at 0x7f9381623a60>"
      ]
     },
     "execution_count": 6,
     "metadata": {},
     "output_type": "execute_result"
    }
   ],
   "source": [
    "import numpy as np\n",
    "from common.constants import PATH_TO_INPUT_FOLDER\n",
    "from common.dataset import Dataset\n",
    "from common.trajectory import Trajectory\n",
    "from common.intrinsics import Intrinsics\n",
    "\n",
    "rgb_txt = PATH_TO_INPUT_FOLDER + \"/rgb.txt\"\n",
    "known_poses_txt = PATH_TO_INPUT_FOLDER + \"/known_poses.txt\"\n",
    "orb_features_pkl_path = \"./cache_data/orb_features.pkl\"\n",
    "pair_manager_pkl_path = \"./cache_data/pair_manager.pkl\"\n",
    "\n",
    "\n",
    "dataset = Dataset()\n",
    "id2known_poses = dataset.read_dict_of_lists(known_poses_txt)\n",
    "id2imgpath = dataset.read_dict_of_lists(rgb_txt)\n",
    "imgpath2known_poses = {\n",
    "    id2imgpath[k]: id2known_poses[k] for k in id2imgpath if k in id2known_poses\n",
    "}\n",
    "\n",
    "\n",
    "\n"
   ]
  }
 ],
 "metadata": {
  "kernelspec": {
   "display_name": ".venv",
   "language": "python",
   "name": "python3"
  },
  "language_info": {
   "codemirror_mode": {
    "name": "ipython",
    "version": 3
   },
   "file_extension": ".py",
   "mimetype": "text/x-python",
   "name": "python",
   "nbconvert_exporter": "python",
   "pygments_lexer": "ipython3",
   "version": "3.10.16"
  }
 },
 "nbformat": 4,
 "nbformat_minor": 2
}
